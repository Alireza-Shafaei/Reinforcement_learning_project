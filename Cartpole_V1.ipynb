{
 "cells": [
  {
   "cell_type": "code",
   "execution_count": 14,
   "metadata": {},
   "outputs": [],
   "source": [
    "import gym\n",
    "import pygame\n",
    "from stable_baselines3 import PPO\n",
    "from stable_baselines3.common.vec_env import DummyVecEnv\n",
    "from stable_baselines3.common.evaluation import evaluate_policy"
   ]
  },
  {
   "cell_type": "code",
   "execution_count": 15,
   "metadata": {},
   "outputs": [],
   "source": [
    "environment_name = \"CartPole-v1\""
   ]
  },
  {
   "cell_type": "code",
   "execution_count": 16,
   "metadata": {},
   "outputs": [],
   "source": [
    "env = gym.make(environment_name,  render_mode=\"human\")"
   ]
  },
  {
   "cell_type": "code",
   "execution_count": 4,
   "metadata": {},
   "outputs": [
    {
     "name": "stderr",
     "output_type": "stream",
     "text": [
      "C:\\Users\\Asus\\AppData\\Roaming\\Python\\Python310\\site-packages\\gym\\utils\\passive_env_checker.py:233: DeprecationWarning: `np.bool8` is a deprecated alias for `np.bool_`.  (Deprecated NumPy 1.24)\n",
      "  if not isinstance(terminated, (bool, np.bool8)):\n"
     ]
    },
    {
     "name": "stdout",
     "output_type": "stream",
     "text": [
      "0\n",
      "(array([ 0.03238172,  0.35953802, -0.05254175, -0.602642  ], dtype=float32), 1.0, False, False, {})\n",
      "Episode:1 Score:17.0\n",
      "Episode:2 Score:15.0\n",
      "Episode:3 Score:30.0\n",
      "Episode:4 Score:48.0\n",
      "Episode:5 Score:33.0\n",
      "Episode:6 Score:21.0\n",
      "Episode:7 Score:11.0\n",
      "Episode:8 Score:22.0\n",
      "Episode:9 Score:62.0\n",
      "Episode:10 Score:11.0\n",
      "Episode:11 Score:18.0\n",
      "Episode:12 Score:9.0\n",
      "Episode:13 Score:23.0\n",
      "Episode:14 Score:19.0\n",
      "Episode:15 Score:18.0\n",
      "Episode:16 Score:14.0\n",
      "Episode:17 Score:35.0\n",
      "Episode:18 Score:44.0\n",
      "Episode:19 Score:28.0\n",
      "Episode:20 Score:38.0\n",
      "Episode:21 Score:32.0\n",
      "Episode:22 Score:37.0\n",
      "Episode:23 Score:15.0\n",
      "Episode:24 Score:14.0\n",
      "Episode:25 Score:12.0\n",
      "Episode:26 Score:28.0\n",
      "Episode:27 Score:17.0\n",
      "Episode:28 Score:12.0\n",
      "Episode:29 Score:38.0\n",
      "Episode:30 Score:11.0\n",
      "Episode:31 Score:20.0\n",
      "Episode:32 Score:20.0\n",
      "Episode:33 Score:72.0\n",
      "Episode:34 Score:28.0\n",
      "Episode:35 Score:14.0\n",
      "Episode:36 Score:47.0\n",
      "Episode:37 Score:11.0\n",
      "Episode:38 Score:21.0\n",
      "Episode:39 Score:16.0\n",
      "Episode:40 Score:20.0\n",
      "Episode:41 Score:41.0\n",
      "Episode:42 Score:17.0\n",
      "Episode:43 Score:17.0\n",
      "Episode:44 Score:16.0\n",
      "Episode:45 Score:11.0\n",
      "Episode:46 Score:41.0\n",
      "Episode:47 Score:35.0\n",
      "Episode:48 Score:30.0\n",
      "Episode:49 Score:14.0\n",
      "Episode:50 Score:11.0\n"
     ]
    }
   ],
   "source": [
    "episodes = 50\n",
    "state = env.reset()\n",
    "env.action_space.sample()\n",
    "env.step(1)\n",
    "print(env.action_space.sample())\n",
    "print(env.step(1))\n",
    "for episode in range(1, episodes+1):\n",
    "    state = env.reset()\n",
    "    done0 = False\n",
    "    done1 = False\n",
    "    score = 0 \n",
    "    \n",
    "    while not (done0 or done1):\n",
    "        env.render()\n",
    "        action = env.action_space.sample()\n",
    "        n_state, reward, done0, done1, info = env.step(action)\n",
    "        score+=reward\n",
    "        #env.render()\n",
    "    print('Episode:{} Score:{}'.format(episode, score))\n",
    "#env.close()"
   ]
  },
  {
   "cell_type": "code",
   "execution_count": 17,
   "metadata": {},
   "outputs": [],
   "source": [
    "env.close()"
   ]
  },
  {
   "cell_type": "code",
   "execution_count": 18,
   "metadata": {},
   "outputs": [
    {
     "data": {
      "text/plain": [
       "1"
      ]
     },
     "execution_count": 18,
     "metadata": {},
     "output_type": "execute_result"
    }
   ],
   "source": [
    "env.action_space.sample()"
   ]
  },
  {
   "cell_type": "code",
   "execution_count": 7,
   "metadata": {},
   "outputs": [
    {
     "data": {
      "text/plain": [
       "array([ 1.4551777e+00,  1.5520964e+38,  1.4288998e-01, -1.5405900e+38],\n",
       "      dtype=float32)"
      ]
     },
     "execution_count": 7,
     "metadata": {},
     "output_type": "execute_result"
    }
   ],
   "source": [
    "env.observation_space.sample()"
   ]
  },
  {
   "cell_type": "code",
   "execution_count": 19,
   "metadata": {},
   "outputs": [
    {
     "name": "stdout",
     "output_type": "stream",
     "text": [
      "Using cpu device\n"
     ]
    },
    {
     "name": "stderr",
     "output_type": "stream",
     "text": [
      "C:\\Users\\Asus\\AppData\\Roaming\\Python\\Python310\\site-packages\\stable_baselines3\\common\\vec_env\\patch_gym.py:49: UserWarning: You provided an OpenAI Gym environment. We strongly recommend transitioning to Gymnasium environments. Stable-Baselines3 is automatically wrapping your environments in a compatibility layer, which could potentially cause issues.\n",
      "  warnings.warn(\n"
     ]
    }
   ],
   "source": [
    "env = gym.make(environment_name, render_mode=\"human\")\n",
    "env = DummyVecEnv([lambda: env])\n",
    "model = PPO('MlpPolicy', env, verbose = 1)"
   ]
  },
  {
   "cell_type": "code",
   "execution_count": 20,
   "metadata": {},
   "outputs": [
    {
     "name": "stderr",
     "output_type": "stream",
     "text": [
      "C:\\Users\\Asus\\AppData\\Roaming\\Python\\Python310\\site-packages\\gym\\utils\\passive_env_checker.py:233: DeprecationWarning: `np.bool8` is a deprecated alias for `np.bool_`.  (Deprecated NumPy 1.24)\n",
      "  if not isinstance(terminated, (bool, np.bool8)):\n"
     ]
    },
    {
     "name": "stdout",
     "output_type": "stream",
     "text": [
      "-----------------------------\n",
      "| time/              |      |\n",
      "|    fps             | 46   |\n",
      "|    iterations      | 1    |\n",
      "|    time_elapsed    | 43   |\n",
      "|    total_timesteps | 2048 |\n",
      "-----------------------------\n",
      "-----------------------------------------\n",
      "| time/                   |             |\n",
      "|    fps                  | 46          |\n",
      "|    iterations           | 2           |\n",
      "|    time_elapsed         | 88          |\n",
      "|    total_timesteps      | 4096        |\n",
      "| train/                  |             |\n",
      "|    approx_kl            | 0.009238286 |\n",
      "|    clip_fraction        | 0.135       |\n",
      "|    clip_range           | 0.2         |\n",
      "|    entropy_loss         | -0.685      |\n",
      "|    explained_variance   | -0.00403    |\n",
      "|    learning_rate        | 0.0003      |\n",
      "|    loss                 | 7.49        |\n",
      "|    n_updates            | 10          |\n",
      "|    policy_gradient_loss | -0.024      |\n",
      "|    value_loss           | 51.4        |\n",
      "-----------------------------------------\n",
      "-----------------------------------------\n",
      "| time/                   |             |\n",
      "|    fps                  | 45          |\n",
      "|    iterations           | 3           |\n",
      "|    time_elapsed         | 133         |\n",
      "|    total_timesteps      | 6144        |\n",
      "| train/                  |             |\n",
      "|    approx_kl            | 0.010765668 |\n",
      "|    clip_fraction        | 0.094       |\n",
      "|    clip_range           | 0.2         |\n",
      "|    entropy_loss         | -0.662      |\n",
      "|    explained_variance   | 0.109       |\n",
      "|    learning_rate        | 0.0003      |\n",
      "|    loss                 | 11.7        |\n",
      "|    n_updates            | 20          |\n",
      "|    policy_gradient_loss | -0.0215     |\n",
      "|    value_loss           | 34.4        |\n",
      "-----------------------------------------\n",
      "------------------------------------------\n",
      "| time/                   |              |\n",
      "|    fps                  | 46           |\n",
      "|    iterations           | 4            |\n",
      "|    time_elapsed         | 177          |\n",
      "|    total_timesteps      | 8192         |\n",
      "| train/                  |              |\n",
      "|    approx_kl            | 0.0077742413 |\n",
      "|    clip_fraction        | 0.0759       |\n",
      "|    clip_range           | 0.2          |\n",
      "|    entropy_loss         | -0.633       |\n",
      "|    explained_variance   | 0.226        |\n",
      "|    learning_rate        | 0.0003       |\n",
      "|    loss                 | 25.4         |\n",
      "|    n_updates            | 30           |\n",
      "|    policy_gradient_loss | -0.0189      |\n",
      "|    value_loss           | 56.2         |\n",
      "------------------------------------------\n",
      "-----------------------------------------\n",
      "| time/                   |             |\n",
      "|    fps                  | 46          |\n",
      "|    iterations           | 5           |\n",
      "|    time_elapsed         | 221         |\n",
      "|    total_timesteps      | 10240       |\n",
      "| train/                  |             |\n",
      "|    approx_kl            | 0.008879451 |\n",
      "|    clip_fraction        | 0.0598      |\n",
      "|    clip_range           | 0.2         |\n",
      "|    entropy_loss         | -0.613      |\n",
      "|    explained_variance   | 0.224       |\n",
      "|    learning_rate        | 0.0003      |\n",
      "|    loss                 | 24.7        |\n",
      "|    n_updates            | 40          |\n",
      "|    policy_gradient_loss | -0.0148     |\n",
      "|    value_loss           | 69.6        |\n",
      "-----------------------------------------\n",
      "------------------------------------------\n",
      "| time/                   |              |\n",
      "|    fps                  | 46           |\n",
      "|    iterations           | 6            |\n",
      "|    time_elapsed         | 266          |\n",
      "|    total_timesteps      | 12288        |\n",
      "| train/                  |              |\n",
      "|    approx_kl            | 0.0059695393 |\n",
      "|    clip_fraction        | 0.0473       |\n",
      "|    clip_range           | 0.2          |\n",
      "|    entropy_loss         | -0.594       |\n",
      "|    explained_variance   | 0.414        |\n",
      "|    learning_rate        | 0.0003       |\n",
      "|    loss                 | 37.9         |\n",
      "|    n_updates            | 50           |\n",
      "|    policy_gradient_loss | -0.0149      |\n",
      "|    value_loss           | 61.9         |\n",
      "------------------------------------------\n",
      "-----------------------------------------\n",
      "| time/                   |             |\n",
      "|    fps                  | 46          |\n",
      "|    iterations           | 7           |\n",
      "|    time_elapsed         | 309         |\n",
      "|    total_timesteps      | 14336       |\n",
      "| train/                  |             |\n",
      "|    approx_kl            | 0.005143564 |\n",
      "|    clip_fraction        | 0.0425      |\n",
      "|    clip_range           | 0.2         |\n",
      "|    entropy_loss         | -0.579      |\n",
      "|    explained_variance   | 0.411       |\n",
      "|    learning_rate        | 0.0003      |\n",
      "|    loss                 | 44.8        |\n",
      "|    n_updates            | 60          |\n",
      "|    policy_gradient_loss | -0.00763    |\n",
      "|    value_loss           | 67.5        |\n",
      "-----------------------------------------\n",
      "-----------------------------------------\n",
      "| time/                   |             |\n",
      "|    fps                  | 46          |\n",
      "|    iterations           | 8           |\n",
      "|    time_elapsed         | 353         |\n",
      "|    total_timesteps      | 16384       |\n",
      "| train/                  |             |\n",
      "|    approx_kl            | 0.006128538 |\n",
      "|    clip_fraction        | 0.0318      |\n",
      "|    clip_range           | 0.2         |\n",
      "|    entropy_loss         | -0.558      |\n",
      "|    explained_variance   | 0.454       |\n",
      "|    learning_rate        | 0.0003      |\n",
      "|    loss                 | 5.97        |\n",
      "|    n_updates            | 70          |\n",
      "|    policy_gradient_loss | -0.00596    |\n",
      "|    value_loss           | 60.4        |\n",
      "-----------------------------------------\n",
      "------------------------------------------\n",
      "| time/                   |              |\n",
      "|    fps                  | 46           |\n",
      "|    iterations           | 9            |\n",
      "|    time_elapsed         | 397          |\n",
      "|    total_timesteps      | 18432        |\n",
      "| train/                  |              |\n",
      "|    approx_kl            | 0.0034489837 |\n",
      "|    clip_fraction        | 0.00708      |\n",
      "|    clip_range           | 0.2          |\n",
      "|    entropy_loss         | -0.567       |\n",
      "|    explained_variance   | 0.783        |\n",
      "|    learning_rate        | 0.0003       |\n",
      "|    loss                 | 1.16         |\n",
      "|    n_updates            | 80           |\n",
      "|    policy_gradient_loss | -0.000959    |\n",
      "|    value_loss           | 20.7         |\n",
      "------------------------------------------\n",
      "-----------------------------------------\n",
      "| time/                   |             |\n",
      "|    fps                  | 46          |\n",
      "|    iterations           | 10          |\n",
      "|    time_elapsed         | 441         |\n",
      "|    total_timesteps      | 20480       |\n",
      "| train/                  |             |\n",
      "|    approx_kl            | 0.010864102 |\n",
      "|    clip_fraction        | 0.0851      |\n",
      "|    clip_range           | 0.2         |\n",
      "|    entropy_loss         | -0.562      |\n",
      "|    explained_variance   | 0.882       |\n",
      "|    learning_rate        | 0.0003      |\n",
      "|    loss                 | 4.8         |\n",
      "|    n_updates            | 90          |\n",
      "|    policy_gradient_loss | -0.00604    |\n",
      "|    value_loss           | 20.7        |\n",
      "-----------------------------------------\n"
     ]
    },
    {
     "data": {
      "text/plain": [
       "<stable_baselines3.ppo.ppo.PPO at 0x1b0cf497160>"
      ]
     },
     "execution_count": 20,
     "metadata": {},
     "output_type": "execute_result"
    }
   ],
   "source": [
    "model.learn(total_timesteps=20000)"
   ]
  },
  {
   "cell_type": "code",
   "execution_count": 16,
   "metadata": {},
   "outputs": [],
   "source": [
    "original_env = env.envs[0]"
   ]
  },
  {
   "cell_type": "code",
   "execution_count": 13,
   "metadata": {},
   "outputs": [],
   "source": [
    "original_env.close()"
   ]
  },
  {
   "cell_type": "code",
   "execution_count": 12,
   "metadata": {},
   "outputs": [
    {
     "data": {
      "text/plain": [
       "array([[-0.01583749,  0.02976768,  0.02437847, -0.00334277]],\n",
       "      dtype=float32)"
      ]
     },
     "execution_count": 12,
     "metadata": {},
     "output_type": "execute_result"
    }
   ],
   "source": [
    "state"
   ]
  },
  {
   "cell_type": "code",
   "execution_count": 26,
   "metadata": {},
   "outputs": [
    {
     "name": "stdout",
     "output_type": "stream",
     "text": [
      "Episode:1 Score:[500.]\n",
      "Episode:2 Score:[500.]\n",
      "Episode:3 Score:[500.]\n",
      "Episode:4 Score:[500.]\n",
      "Episode:5 Score:[500.]\n",
      "Episode:6 Score:[500.]\n",
      "Episode:7 Score:[500.]\n",
      "Episode:8 Score:[500.]\n",
      "Episode:9 Score:[500.]\n",
      "Episode:10 Score:[481.]\n"
     ]
    }
   ],
   "source": [
    "episodes = 10\n",
    "state = env.reset()\n",
    "\n",
    "for episode in range(1, episodes + 1):\n",
    "    state = env.reset()\n",
    "    done0 = False\n",
    "    score = 0\n",
    "\n",
    "    while not done0:\n",
    "        action, _states = model.predict(state)  # Use 'state' here\n",
    "        state, reward, done0, info = env.step(action)\n",
    "        score += reward\n",
    "        env.render()\n",
    "\n",
    "    print('Episode:{} Score:{}'.format(episode, score))"
   ]
  },
  {
   "cell_type": "code",
   "execution_count": 11,
   "metadata": {},
   "outputs": [],
   "source": [
    "env.close()"
   ]
  }
 ],
 "metadata": {
  "kernelspec": {
   "display_name": "Python 3",
   "language": "python",
   "name": "python3"
  },
  "language_info": {
   "codemirror_mode": {
    "name": "ipython",
    "version": 3
   },
   "file_extension": ".py",
   "mimetype": "text/x-python",
   "name": "python",
   "nbconvert_exporter": "python",
   "pygments_lexer": "ipython3",
   "version": "3.10.9"
  }
 },
 "nbformat": 4,
 "nbformat_minor": 2
}
